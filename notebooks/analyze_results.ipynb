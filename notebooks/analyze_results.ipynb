{
 "cells": [
  {
   "cell_type": "markdown",
   "id": "15becf2e",
   "metadata": {},
   "source": [
    "# Analyze Results"
   ]
  },
  {
   "cell_type": "markdown",
   "id": "c804755d",
   "metadata": {},
   "source": [
    "{{ badge }}"
   ]
  },
  {
   "cell_type": "markdown",
   "id": "828be3d7",
   "metadata": {},
   "source": [
    "## Load Data and Model"
   ]
  },
  {
   "cell_type": "code",
   "execution_count": null,
   "id": "4e742068",
   "metadata": {},
   "outputs": [],
   "source": [
    "from yellowbrick.classifier import ClassificationReport, ConfusionMatrix, ROCAUC\n",
    "import joblib \n",
    "import pandas as pd  "
   ]
  },
  {
   "cell_type": "code",
   "execution_count": null,
   "id": "cbbb42ef",
   "metadata": {},
   "outputs": [],
   "source": [
    "X_train = pd.read_csv('../data/processed/X_train.csv')\n",
    "X_test = pd.read_csv('../data/processed/X_test.csv')\n",
    "y_train = pd.read_csv('../data/processed/y_train.csv')\n",
    "y_test = pd.read_csv('../data/processed/y_test.csv')\n"
   ]
  },
  {
   "cell_type": "code",
   "execution_count": null,
   "id": "d9e5e4ec",
   "metadata": {},
   "outputs": [],
   "source": [
    "model = joblib.load('../models/XGBoost')"
   ]
  },
  {
   "cell_type": "markdown",
   "id": "5fdb8b80",
   "metadata": {},
   "source": [
    "## Classification Report"
   ]
  },
  {
   "cell_type": "markdown",
   "id": "c54af20a",
   "metadata": {},
   "source": [
    "The classification report visualizer displays the precision, recall, F1, and support scores for the model. "
   ]
  },
  {
   "cell_type": "code",
   "execution_count": null,
   "id": "88a97fac",
   "metadata": {},
   "outputs": [],
   "source": [
    "visualizer = ClassificationReport(model, classes=[0, 1], support=True)\n",
    "\n",
    "visualizer.fit(X_train, y_train)\n",
    "visualizer.score(X_test, y_test)\n",
    "visualizer.show() "
   ]
  },
  {
   "cell_type": "markdown",
   "id": "70b2a7dd",
   "metadata": {},
   "source": [
    "## Confusion Matrix"
   ]
  },
  {
   "cell_type": "markdown",
   "id": "c21e74ca",
   "metadata": {},
   "source": [
    "What is the percentage of false predictions among those who leave in 2 years? What is the percentage of false predictions among those who stay more than 2 years? The confusion matrix helps us to answer this question"
   ]
  },
  {
   "cell_type": "code",
   "execution_count": null,
   "id": "a7cdb469",
   "metadata": {},
   "outputs": [],
   "source": [
    "visualizer = ConfusionMatrix(model, classes=[0, 1])\n",
    "\n",
    "visualizer.fit(X_train, y_train)\n",
    "visualizer.score(X_test, y_test)\n",
    "visualizer.show() "
   ]
  },
  {
   "cell_type": "markdown",
   "id": "df9e7caf",
   "metadata": {},
   "source": [
    "## ROC Curve"
   ]
  },
  {
   "cell_type": "markdown",
   "id": "5bc02e8c",
   "metadata": {},
   "source": [
    "Imagine we improve our f1 score to 99%, how do we know that it is actually better? Confusion matrix could help but instead of comparing the percentage of right prediction in each class between two models, is there an easier way to compare to the performance of two models? That is when ROC AUC would be helpful.\n",
    "\n",
    "A ROCAUC plot allows the user to visualize the tradeoff between the classifier’s sensitivity and specificity. A ROC curve displays the true positive rate on the Y axis and the false positive rate on the X axis."
   ]
  },
  {
   "cell_type": "code",
   "execution_count": null,
   "id": "5da4c4a8",
   "metadata": {},
   "outputs": [],
   "source": [
    "visualizer = ROCAUC(model, classes=[0, 1])\n",
    "\n",
    "visualizer.fit(X_train, y_train)\n",
    "visualizer.score(X_test, y_test)\n",
    "visualizer.show() "
   ]
  },
  {
   "cell_type": "markdown",
   "id": "4b70ef4f",
   "metadata": {},
   "source": [
    "# Explain Model"
   ]
  },
  {
   "cell_type": "code",
   "execution_count": null,
   "id": "6986abf1",
   "metadata": {},
   "outputs": [],
   "source": [
    "import shap\n",
    "\n",
    "explainer = shap.Explainer(model)\n",
    "shap_values = explainer(X_train)"
   ]
  },
  {
   "cell_type": "markdown",
   "id": "1f0a0cc6",
   "metadata": {},
   "source": [
    "## SHAP Waterfall Plot"
   ]
  },
  {
   "cell_type": "markdown",
   "id": "bd13e95e",
   "metadata": {},
   "source": [
    "Visualize the first prediction’s explanation:"
   ]
  },
  {
   "cell_type": "code",
   "execution_count": null,
   "id": "c778fc23",
   "metadata": {
    "tags": [
     "parameters"
    ]
   },
   "outputs": [],
   "source": [
    "instance = 0"
   ]
  },
  {
   "cell_type": "code",
   "execution_count": null,
   "id": "384dd718",
   "metadata": {},
   "outputs": [],
   "source": [
    "shap.plots.waterfall(shap_values[instance])"
   ]
  },
  {
   "cell_type": "markdown",
   "id": "d92ad378",
   "metadata": {},
   "source": [
    "- The blue bar shows how much a particular feature decreases the value of the prediction.\n",
    "- The red bar shows how much a particular feature increases the value of the prediction.\n",
    "- Negative values imply probabilities of less than 0.5 that an employee leaves the company in 2 years."
   ]
  },
  {
   "cell_type": "markdown",
   "id": "06400f84",
   "metadata": {},
   "source": [
    "## SHAP Bar Plot"
   ]
  },
  {
   "cell_type": "markdown",
   "id": "b3fbae66",
   "metadata": {},
   "source": [
    "We can also get a global feature importance plot using the SHAP bar plot."
   ]
  },
  {
   "cell_type": "code",
   "execution_count": null,
   "id": "b2ee25b5",
   "metadata": {},
   "outputs": [],
   "source": [
    "shap.plots.bar(shap_values)\n"
   ]
  }
 ],
 "metadata": {
  "celltoolbar": "Tags",
  "kernelspec": {
   "display_name": "Python 3 (ipykernel)",
   "language": "python",
   "name": "python3"
  },
  "language_info": {
   "codemirror_mode": {
    "name": "ipython",
    "version": 3
   },
   "file_extension": ".py",
   "mimetype": "text/x-python",
   "name": "python",
   "nbconvert_exporter": "python",
   "pygments_lexer": "ipython3",
   "version": "3.8.10"
  },
  "toc": {
   "base_numbering": 1,
   "nav_menu": {},
   "number_sections": true,
   "sideBar": true,
   "skip_h1_title": false,
   "title_cell": "Table of Contents",
   "title_sidebar": "Contents",
   "toc_cell": false,
   "toc_position": {},
   "toc_section_display": true,
   "toc_window_display": false
  }
 },
 "nbformat": 4,
 "nbformat_minor": 5
}
